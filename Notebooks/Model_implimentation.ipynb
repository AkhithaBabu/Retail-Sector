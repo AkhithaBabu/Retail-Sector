{
 "cells": [
  {
   "cell_type": "markdown",
   "metadata": {
    "id": "ZaH_dua6U8n-"
   },
   "source": [
    "## Mount gDrive"
   ]
  },
  {
   "cell_type": "code",
   "execution_count": 1,
   "metadata": {
    "colab": {
     "base_uri": "https://localhost:8080/",
     "height": 34
    },
    "id": "jeJczJIRUIQb",
    "outputId": "cb8d2b5e-833b-4402-e262-2c2a92087364"
   },
   "outputs": [
    {
     "name": "stdout",
     "output_type": "stream",
     "text": [
      "Mounted at /content/gdrive\n"
     ]
    }
   ],
   "source": [
    "from google.colab import drive\n",
    "drive.mount('/content/gdrive')"
   ]
  },
  {
   "cell_type": "code",
   "execution_count": 2,
   "metadata": {
    "colab": {
     "base_uri": "https://localhost:8080/",
     "height": 34
    },
    "id": "QzVWE21uUKh1",
    "outputId": "1f2bd51b-816b-446b-8215-0c582e1c8e90"
   },
   "outputs": [
    {
     "name": "stdout",
     "output_type": "stream",
     "text": [
      "/content/gdrive\n"
     ]
    }
   ],
   "source": [
    "%cd /content/gdrive"
   ]
  },
  {
   "cell_type": "code",
   "execution_count": 3,
   "metadata": {
    "colab": {
     "base_uri": "https://localhost:8080/",
     "height": 34
    },
    "id": "EXTGZJ0HUwjG",
    "outputId": "9208f1aa-b844-427a-a88d-d7fa60f29b28"
   },
   "outputs": [
    {
     "name": "stdout",
     "output_type": "stream",
     "text": [
      "'/content/gdrive/My Drive/modelling-project-research-papers/Project 1 (Retail Sector)/feature_engneering.csv'\n"
     ]
    }
   ],
   "source": [
    "!ls \"/content/gdrive/My Drive/modelling-project-research-papers/Project 1 (Retail Sector)/feature_engneering.csv\""
   ]
  },
  {
   "cell_type": "markdown",
   "metadata": {
    "id": "iB6sr2K9VC9P"
   },
   "source": [
    "# Import Libraries"
   ]
  },
  {
   "cell_type": "code",
   "execution_count": 4,
   "metadata": {
    "id": "AUG2Kos7UHSW"
   },
   "outputs": [],
   "source": [
    "import numpy as np\n",
    "import pandas as pd\n",
    "import matplotlib\n",
    "import matplotlib.pyplot as plt\n",
    "\n",
    "from sklearn.model_selection import train_test_split\n",
    "\n",
    "from sklearn.ensemble import RandomForestRegressor\n",
    "from sklearn import linear_model\n",
    "from sklearn.metrics import mean_squared_error,mean_squared_log_error\n",
    "from sklearn.metrics import r2_score\n",
    "\n",
    "import warnings\n",
    "warnings.filterwarnings(\"ignore\")"
   ]
  },
  {
   "cell_type": "code",
   "execution_count": 5,
   "metadata": {
    "colab": {
     "base_uri": "https://localhost:8080/",
     "height": 217
    },
    "id": "lVEj_hZZUHSc",
    "outputId": "63bf1ac8-82da-4e99-cfa0-c7f3b180a640"
   },
   "outputs": [
    {
     "data": {
      "text/html": [
       "<div>\n",
       "<style scoped>\n",
       "    .dataframe tbody tr th:only-of-type {\n",
       "        vertical-align: middle;\n",
       "    }\n",
       "\n",
       "    .dataframe tbody tr th {\n",
       "        vertical-align: top;\n",
       "    }\n",
       "\n",
       "    .dataframe thead th {\n",
       "        text-align: right;\n",
       "    }\n",
       "</style>\n",
       "<table border=\"1\" class=\"dataframe\">\n",
       "  <thead>\n",
       "    <tr style=\"text-align: right;\">\n",
       "      <th></th>\n",
       "      <th>Store</th>\n",
       "      <th>StoreType</th>\n",
       "      <th>Assortment</th>\n",
       "      <th>CompetitionDistance</th>\n",
       "      <th>CompetitionOpenSinceMonth</th>\n",
       "      <th>CompetitionOpenSinceYear</th>\n",
       "      <th>Promo2</th>\n",
       "      <th>Promo2SinceWeek</th>\n",
       "      <th>Promo2SinceYear</th>\n",
       "      <th>PromoInterval</th>\n",
       "      <th>DayOfWeek</th>\n",
       "      <th>Sales</th>\n",
       "      <th>Customers</th>\n",
       "      <th>Open</th>\n",
       "      <th>Promo</th>\n",
       "      <th>StateHoliday</th>\n",
       "      <th>SchoolHoliday</th>\n",
       "      <th>Open_0</th>\n",
       "      <th>Open_1</th>\n",
       "      <th>Promo2_0</th>\n",
       "      <th>Promo2_1</th>\n",
       "      <th>SchoolHoliday_0</th>\n",
       "      <th>SchoolHoliday_1</th>\n",
       "      <th>StoreType_a</th>\n",
       "      <th>StoreType_b</th>\n",
       "      <th>StoreType_c</th>\n",
       "      <th>StoreType_d</th>\n",
       "      <th>PromoInterval_0</th>\n",
       "      <th>PromoInterval_Feb_May_Aug_Nov</th>\n",
       "      <th>PromoInterval_Jan_Apr_Jul_Oct</th>\n",
       "      <th>PromoInterval_Mar_Jun_Sept_Dec</th>\n",
       "      <th>StateHoliday_0</th>\n",
       "      <th>StateHoliday_a</th>\n",
       "      <th>StateHoliday_b</th>\n",
       "      <th>StateHoliday_c</th>\n",
       "      <th>date_year</th>\n",
       "      <th>date_weekofyear</th>\n",
       "      <th>date_month</th>\n",
       "      <th>date_dayofweek</th>\n",
       "      <th>date_day</th>\n",
       "    </tr>\n",
       "  </thead>\n",
       "  <tbody>\n",
       "    <tr>\n",
       "      <th>0</th>\n",
       "      <td>1</td>\n",
       "      <td>2</td>\n",
       "      <td>0</td>\n",
       "      <td>1270.0</td>\n",
       "      <td>9.0</td>\n",
       "      <td>2008.0</td>\n",
       "      <td>0</td>\n",
       "      <td>0.0</td>\n",
       "      <td>0.0</td>\n",
       "      <td>0</td>\n",
       "      <td>4</td>\n",
       "      <td>5263</td>\n",
       "      <td>555</td>\n",
       "      <td>1</td>\n",
       "      <td>1</td>\n",
       "      <td>0</td>\n",
       "      <td>1</td>\n",
       "      <td>0</td>\n",
       "      <td>1</td>\n",
       "      <td>1</td>\n",
       "      <td>0</td>\n",
       "      <td>0</td>\n",
       "      <td>1</td>\n",
       "      <td>0</td>\n",
       "      <td>0</td>\n",
       "      <td>1</td>\n",
       "      <td>0</td>\n",
       "      <td>1</td>\n",
       "      <td>0</td>\n",
       "      <td>0</td>\n",
       "      <td>0</td>\n",
       "      <td>1</td>\n",
       "      <td>0</td>\n",
       "      <td>0</td>\n",
       "      <td>0</td>\n",
       "      <td>2015</td>\n",
       "      <td>31</td>\n",
       "      <td>7</td>\n",
       "      <td>4</td>\n",
       "      <td>31</td>\n",
       "    </tr>\n",
       "    <tr>\n",
       "      <th>1</th>\n",
       "      <td>1</td>\n",
       "      <td>2</td>\n",
       "      <td>0</td>\n",
       "      <td>1270.0</td>\n",
       "      <td>9.0</td>\n",
       "      <td>2008.0</td>\n",
       "      <td>0</td>\n",
       "      <td>0.0</td>\n",
       "      <td>0.0</td>\n",
       "      <td>0</td>\n",
       "      <td>3</td>\n",
       "      <td>5020</td>\n",
       "      <td>546</td>\n",
       "      <td>1</td>\n",
       "      <td>1</td>\n",
       "      <td>0</td>\n",
       "      <td>1</td>\n",
       "      <td>0</td>\n",
       "      <td>1</td>\n",
       "      <td>1</td>\n",
       "      <td>0</td>\n",
       "      <td>0</td>\n",
       "      <td>1</td>\n",
       "      <td>0</td>\n",
       "      <td>0</td>\n",
       "      <td>1</td>\n",
       "      <td>0</td>\n",
       "      <td>1</td>\n",
       "      <td>0</td>\n",
       "      <td>0</td>\n",
       "      <td>0</td>\n",
       "      <td>1</td>\n",
       "      <td>0</td>\n",
       "      <td>0</td>\n",
       "      <td>0</td>\n",
       "      <td>2015</td>\n",
       "      <td>31</td>\n",
       "      <td>7</td>\n",
       "      <td>3</td>\n",
       "      <td>30</td>\n",
       "    </tr>\n",
       "    <tr>\n",
       "      <th>2</th>\n",
       "      <td>1</td>\n",
       "      <td>2</td>\n",
       "      <td>0</td>\n",
       "      <td>1270.0</td>\n",
       "      <td>9.0</td>\n",
       "      <td>2008.0</td>\n",
       "      <td>0</td>\n",
       "      <td>0.0</td>\n",
       "      <td>0.0</td>\n",
       "      <td>0</td>\n",
       "      <td>2</td>\n",
       "      <td>4782</td>\n",
       "      <td>523</td>\n",
       "      <td>1</td>\n",
       "      <td>1</td>\n",
       "      <td>0</td>\n",
       "      <td>1</td>\n",
       "      <td>0</td>\n",
       "      <td>1</td>\n",
       "      <td>1</td>\n",
       "      <td>0</td>\n",
       "      <td>0</td>\n",
       "      <td>1</td>\n",
       "      <td>0</td>\n",
       "      <td>0</td>\n",
       "      <td>1</td>\n",
       "      <td>0</td>\n",
       "      <td>1</td>\n",
       "      <td>0</td>\n",
       "      <td>0</td>\n",
       "      <td>0</td>\n",
       "      <td>1</td>\n",
       "      <td>0</td>\n",
       "      <td>0</td>\n",
       "      <td>0</td>\n",
       "      <td>2015</td>\n",
       "      <td>31</td>\n",
       "      <td>7</td>\n",
       "      <td>2</td>\n",
       "      <td>29</td>\n",
       "    </tr>\n",
       "    <tr>\n",
       "      <th>3</th>\n",
       "      <td>1</td>\n",
       "      <td>2</td>\n",
       "      <td>0</td>\n",
       "      <td>1270.0</td>\n",
       "      <td>9.0</td>\n",
       "      <td>2008.0</td>\n",
       "      <td>0</td>\n",
       "      <td>0.0</td>\n",
       "      <td>0.0</td>\n",
       "      <td>0</td>\n",
       "      <td>1</td>\n",
       "      <td>5011</td>\n",
       "      <td>560</td>\n",
       "      <td>1</td>\n",
       "      <td>1</td>\n",
       "      <td>0</td>\n",
       "      <td>1</td>\n",
       "      <td>0</td>\n",
       "      <td>1</td>\n",
       "      <td>1</td>\n",
       "      <td>0</td>\n",
       "      <td>0</td>\n",
       "      <td>1</td>\n",
       "      <td>0</td>\n",
       "      <td>0</td>\n",
       "      <td>1</td>\n",
       "      <td>0</td>\n",
       "      <td>1</td>\n",
       "      <td>0</td>\n",
       "      <td>0</td>\n",
       "      <td>0</td>\n",
       "      <td>1</td>\n",
       "      <td>0</td>\n",
       "      <td>0</td>\n",
       "      <td>0</td>\n",
       "      <td>2015</td>\n",
       "      <td>31</td>\n",
       "      <td>7</td>\n",
       "      <td>1</td>\n",
       "      <td>28</td>\n",
       "    </tr>\n",
       "    <tr>\n",
       "      <th>4</th>\n",
       "      <td>1</td>\n",
       "      <td>2</td>\n",
       "      <td>0</td>\n",
       "      <td>1270.0</td>\n",
       "      <td>9.0</td>\n",
       "      <td>2008.0</td>\n",
       "      <td>0</td>\n",
       "      <td>0.0</td>\n",
       "      <td>0.0</td>\n",
       "      <td>0</td>\n",
       "      <td>0</td>\n",
       "      <td>6102</td>\n",
       "      <td>612</td>\n",
       "      <td>1</td>\n",
       "      <td>1</td>\n",
       "      <td>0</td>\n",
       "      <td>1</td>\n",
       "      <td>0</td>\n",
       "      <td>1</td>\n",
       "      <td>1</td>\n",
       "      <td>0</td>\n",
       "      <td>0</td>\n",
       "      <td>1</td>\n",
       "      <td>0</td>\n",
       "      <td>0</td>\n",
       "      <td>1</td>\n",
       "      <td>0</td>\n",
       "      <td>1</td>\n",
       "      <td>0</td>\n",
       "      <td>0</td>\n",
       "      <td>0</td>\n",
       "      <td>1</td>\n",
       "      <td>0</td>\n",
       "      <td>0</td>\n",
       "      <td>0</td>\n",
       "      <td>2015</td>\n",
       "      <td>31</td>\n",
       "      <td>7</td>\n",
       "      <td>0</td>\n",
       "      <td>27</td>\n",
       "    </tr>\n",
       "  </tbody>\n",
       "</table>\n",
       "</div>"
      ],
      "text/plain": [
       "   Store  StoreType  Assortment  ...  date_month  date_dayofweek  date_day\n",
       "0      1          2           0  ...           7               4        31\n",
       "1      1          2           0  ...           7               3        30\n",
       "2      1          2           0  ...           7               2        29\n",
       "3      1          2           0  ...           7               1        28\n",
       "4      1          2           0  ...           7               0        27\n",
       "\n",
       "[5 rows x 40 columns]"
      ]
     },
     "execution_count": 5,
     "metadata": {
      "tags": []
     },
     "output_type": "execute_result"
    }
   ],
   "source": [
    "dataset='/content/gdrive/My Drive/modelling-project-research-papers/Project 1 (Retail Sector)/feature_engneering.csv'\n",
    "df=pd.read_csv(dataset)\n",
    "df.drop('Date',axis=1,inplace=True)\n",
    "df.head()"
   ]
  },
  {
   "cell_type": "code",
   "execution_count": 6,
   "metadata": {
    "colab": {
     "base_uri": "https://localhost:8080/",
     "height": 852
    },
    "id": "cxBUO5tZUHSh",
    "outputId": "fdbf4317-d3fa-4000-fb0c-416a38a87366"
   },
   "outputs": [
    {
     "name": "stdout",
     "output_type": "stream",
     "text": [
      "<class 'pandas.core.frame.DataFrame'>\n",
      "RangeIndex: 1017209 entries, 0 to 1017208\n",
      "Data columns (total 40 columns):\n",
      " #   Column                          Non-Null Count    Dtype  \n",
      "---  ------                          --------------    -----  \n",
      " 0   Store                           1017209 non-null  int64  \n",
      " 1   StoreType                       1017209 non-null  int64  \n",
      " 2   Assortment                      1017209 non-null  int64  \n",
      " 3   CompetitionDistance             1017209 non-null  float64\n",
      " 4   CompetitionOpenSinceMonth       1017209 non-null  float64\n",
      " 5   CompetitionOpenSinceYear        1017209 non-null  float64\n",
      " 6   Promo2                          1017209 non-null  int64  \n",
      " 7   Promo2SinceWeek                 1017209 non-null  float64\n",
      " 8   Promo2SinceYear                 1017209 non-null  float64\n",
      " 9   PromoInterval                   1017209 non-null  int64  \n",
      " 10  DayOfWeek                       1017209 non-null  int64  \n",
      " 11  Sales                           1017209 non-null  int64  \n",
      " 12  Customers                       1017209 non-null  int64  \n",
      " 13  Open                            1017209 non-null  int64  \n",
      " 14  Promo                           1017209 non-null  int64  \n",
      " 15  StateHoliday                    1017209 non-null  int64  \n",
      " 16  SchoolHoliday                   1017209 non-null  int64  \n",
      " 17  Open_0                          1017209 non-null  int64  \n",
      " 18  Open_1                          1017209 non-null  int64  \n",
      " 19  Promo2_0                        1017209 non-null  int64  \n",
      " 20  Promo2_1                        1017209 non-null  int64  \n",
      " 21  SchoolHoliday_0                 1017209 non-null  int64  \n",
      " 22  SchoolHoliday_1                 1017209 non-null  int64  \n",
      " 23  StoreType_a                     1017209 non-null  int64  \n",
      " 24  StoreType_b                     1017209 non-null  int64  \n",
      " 25  StoreType_c                     1017209 non-null  int64  \n",
      " 26  StoreType_d                     1017209 non-null  int64  \n",
      " 27  PromoInterval_0                 1017209 non-null  int64  \n",
      " 28  PromoInterval_Feb_May_Aug_Nov   1017209 non-null  int64  \n",
      " 29  PromoInterval_Jan_Apr_Jul_Oct   1017209 non-null  int64  \n",
      " 30  PromoInterval_Mar_Jun_Sept_Dec  1017209 non-null  int64  \n",
      " 31  StateHoliday_0                  1017209 non-null  int64  \n",
      " 32  StateHoliday_a                  1017209 non-null  int64  \n",
      " 33  StateHoliday_b                  1017209 non-null  int64  \n",
      " 34  StateHoliday_c                  1017209 non-null  int64  \n",
      " 35  date_year                       1017209 non-null  int64  \n",
      " 36  date_weekofyear                 1017209 non-null  int64  \n",
      " 37  date_month                      1017209 non-null  int64  \n",
      " 38  date_dayofweek                  1017209 non-null  int64  \n",
      " 39  date_day                        1017209 non-null  int64  \n",
      "dtypes: float64(5), int64(35)\n",
      "memory usage: 310.4 MB\n"
     ]
    }
   ],
   "source": [
    "df.info()"
   ]
  },
  {
   "cell_type": "markdown",
   "metadata": {
    "id": "BnslPnS6UHSl"
   },
   "source": [
    "# Normalization"
   ]
  },
  {
   "cell_type": "code",
   "execution_count": 7,
   "metadata": {
    "id": "A-SFFPPAUHSm"
   },
   "outputs": [],
   "source": [
    "from sklearn.preprocessing import MinMaxScaler\n",
    "from sklearn.preprocessing import StandardScaler\n",
    "\n",
    "norm = MinMaxScaler()\n",
    "\n",
    "#norm = StandardScaler()\n",
    "CompetitionDistance=norm.fit_transform(df[['CompetitionDistance','Sales']].values)[:,0]\n",
    "Customers=norm.fit_transform(df[['Customers','Sales']].values)[:,0]"
   ]
  },
  {
   "cell_type": "code",
   "execution_count": 8,
   "metadata": {
    "id": "iZEMiTbKUHSq"
   },
   "outputs": [],
   "source": [
    "df['CompetitionDistance']=CompetitionDistance\n",
    "df['Customers']=Customers"
   ]
  },
  {
   "cell_type": "code",
   "execution_count": 9,
   "metadata": {
    "id": "QAKZfEhkUHSu"
   },
   "outputs": [],
   "source": [
    "y=df['Sales']\n",
    "X=df.drop('Sales',axis=1)"
   ]
  },
  {
   "cell_type": "code",
   "execution_count": 10,
   "metadata": {
    "colab": {
     "base_uri": "https://localhost:8080/",
     "height": 34
    },
    "id": "72SlTbuTUHSy",
    "outputId": "370a482a-36c0-4a17-a9e7-dff4900b1942"
   },
   "outputs": [
    {
     "name": "stdout",
     "output_type": "stream",
     "text": [
      "(1017209, 39)\n"
     ]
    }
   ],
   "source": [
    "print(X.shape)"
   ]
  },
  {
   "cell_type": "code",
   "execution_count": 11,
   "metadata": {
    "id": "p4_B-n9SUHS2"
   },
   "outputs": [],
   "source": [
    "def adjusted_r2(x_test,r2):\n",
    "    return 1-(1-r2)*((len(x_test)-1)/(len(x_test)-x_test.shape[1]-1))"
   ]
  },
  {
   "cell_type": "code",
   "execution_count": 12,
   "metadata": {
    "id": "jRRNR7_WUHS8"
   },
   "outputs": [],
   "source": [
    "#accuracy dataframe that store accuracy of models\n",
    "accuracy=pd.DataFrame(columns=['Train Adjusted R2','Test Adjusted R2'])"
   ]
  },
  {
   "cell_type": "markdown",
   "metadata": {
    "id": "ZXWNXnC0UHS_"
   },
   "source": [
    "# Feature Selection"
   ]
  },
  {
   "cell_type": "code",
   "execution_count": 13,
   "metadata": {
    "colab": {
     "base_uri": "https://localhost:8080/",
     "height": 52
    },
    "id": "YxpDG9-9UHTA",
    "outputId": "972fe0bc-ca27-4143-def9-c657a46679e5"
   },
   "outputs": [
    {
     "name": "stdout",
     "output_type": "stream",
     "text": [
      "(813767, 39)\n",
      "(203442, 39)\n"
     ]
    }
   ],
   "source": [
    "#X=df[cols8+['Sales']].copy()\n",
    "X=df.copy()\n",
    "y=df['Sales'].values\n",
    "X.drop(['Sales'],axis=1,inplace=True)\n",
    "\n",
    "X_train, X_test, y_train, y_test = train_test_split(X, y, test_size=0.2, random_state=42)\n",
    "\n",
    "print(X_train.shape)\n",
    "print(X_test.shape)"
   ]
  },
  {
   "cell_type": "code",
   "execution_count": 14,
   "metadata": {
    "colab": {
     "base_uri": "https://localhost:8080/",
     "height": 123
    },
    "id": "44iYExTdUHTE",
    "outputId": "0d6bba47-36aa-4373-b1b2-20dfeb826a6c"
   },
   "outputs": [
    {
     "data": {
      "text/plain": [
       "SelectFromModel(estimator=Lasso(alpha=0.1, copy_X=True, fit_intercept=True,\n",
       "                                max_iter=1000, normalize=False, positive=False,\n",
       "                                precompute=False, random_state=None,\n",
       "                                selection='cyclic', tol=0.0001,\n",
       "                                warm_start=False),\n",
       "                max_features=20, norm_order=1, prefit=False, threshold=None)"
      ]
     },
     "execution_count": 14,
     "metadata": {
      "tags": []
     },
     "output_type": "execute_result"
    }
   ],
   "source": [
    "from sklearn.feature_selection import SelectFromModel\n",
    "sel_ = SelectFromModel(linear_model.Lasso(alpha=0.1),max_features=20)\n",
    "sel_.fit(X, y)"
   ]
  },
  {
   "cell_type": "code",
   "execution_count": 15,
   "metadata": {
    "id": "SlRWzGtAUHTI"
   },
   "outputs": [],
   "source": [
    "selected_feat = X.columns[(sel_.get_support())]"
   ]
  },
  {
   "cell_type": "code",
   "execution_count": 16,
   "metadata": {
    "colab": {
     "base_uri": "https://localhost:8080/",
     "height": 141
    },
    "id": "zOqZDho2UHTM",
    "outputId": "7e09dba2-2c17-4927-8e4f-1f3876472e3e"
   },
   "outputs": [
    {
     "data": {
      "text/plain": [
       "Index(['Assortment', 'CompetitionDistance', 'PromoInterval', 'DayOfWeek',\n",
       "       'Customers', 'Open', 'Promo', 'SchoolHoliday', 'Promo2_0',\n",
       "       'StoreType_b', 'StoreType_c', 'StoreType_d',\n",
       "       'PromoInterval_Mar_Jun_Sept_Dec', 'StateHoliday_0', 'StateHoliday_a',\n",
       "       'StateHoliday_b', 'StateHoliday_c', 'date_year', 'date_month',\n",
       "       'date_dayofweek'],\n",
       "      dtype='object')"
      ]
     },
     "execution_count": 16,
     "metadata": {
      "tags": []
     },
     "output_type": "execute_result"
    }
   ],
   "source": [
    "selected_feat"
   ]
  },
  {
   "cell_type": "markdown",
   "metadata": {
    "id": "WE6lV8dnUHTP"
   },
   "source": [
    "# ML Models"
   ]
  },
  {
   "cell_type": "markdown",
   "metadata": {
    "id": "v_TAXsQAUHTQ"
   },
   "source": [
    "## 1. Lasso Regressor"
   ]
  },
  {
   "cell_type": "code",
   "execution_count": 17,
   "metadata": {
    "id": "X6dzOVIXUHTR"
   },
   "outputs": [],
   "source": [
    "#split dataset for selected features\n",
    "X_train, X_test, y_train, y_test = train_test_split(X[selected_feat], y, test_size=0.2, random_state=42)"
   ]
  },
  {
   "cell_type": "code",
   "execution_count": 18,
   "metadata": {
    "colab": {
     "base_uri": "https://localhost:8080/",
     "height": 52
    },
    "id": "bY5K19aGUHTU",
    "outputId": "32b0c099-b90c-45b5-8f4d-cdf83611588c"
   },
   "outputs": [
    {
     "name": "stdout",
     "output_type": "stream",
     "text": [
      "(813767, 20) (813767,)\n",
      "(203442, 20) (203442,)\n"
     ]
    }
   ],
   "source": [
    "print(X_train.shape,y_train.shape)\n",
    "print(X_test.shape,y_test.shape)"
   ]
  },
  {
   "cell_type": "code",
   "execution_count": 19,
   "metadata": {
    "colab": {
     "base_uri": "https://localhost:8080/",
     "height": 52
    },
    "id": "8l96P2KEUHTY",
    "outputId": "2a5d6987-9940-4198-8c4c-b33450508449"
   },
   "outputs": [
    {
     "name": "stdout",
     "output_type": "stream",
     "text": [
      "Train Adj R2 =  0.8955\n",
      "Test Adj R2 =  0.8967\n"
     ]
    }
   ],
   "source": [
    "clf = linear_model.Lasso(alpha=0.1)\n",
    "clf.fit(X_train,y_train)\n",
    "\n",
    "y_pred=clf.predict(X_test)\n",
    "\n",
    "train_adj_r2_score=round(adjusted_r2(X_train,clf.score(X_train,y_train)),4)\n",
    "test_adj_r2_score=round(adjusted_r2(X_test,clf.score(X_test,y_test)),4)\n",
    "\n",
    "print(\"Train Adj R2 = \",train_adj_r2_score)\n",
    "\n",
    "print(\"Test Adj R2 = \",test_adj_r2_score)"
   ]
  },
  {
   "cell_type": "code",
   "execution_count": 20,
   "metadata": {
    "colab": {
     "base_uri": "https://localhost:8080/",
     "height": 52
    },
    "id": "qLT9bF1UUHTb",
    "outputId": "5d809a39-5715-4e1f-edc3-46b5849823e5"
   },
   "outputs": [
    {
     "name": "stdout",
     "output_type": "stream",
     "text": [
      "                 Train Adjusted R2  Test Adjusted R2\n",
      "LassoRegression             0.8955            0.8967\n"
     ]
    }
   ],
   "source": [
    "accuracy.loc['LassoRegression']=[train_adj_r2_score,test_adj_r2_score]\n",
    "print(accuracy)"
   ]
  },
  {
   "cell_type": "code",
   "execution_count": 21,
   "metadata": {
    "colab": {
     "base_uri": "https://localhost:8080/",
     "height": 390
    },
    "id": "WUXeAbAMUHTf",
    "outputId": "a5c23881-81db-483d-e90b-092e16a4a8d5"
   },
   "outputs": [
    {
     "data": {
      "image/png": "[encoded data removed]",
      "text/plain": [
       "<Figure size 432x432 with 1 Axes>"
      ]
     },
     "metadata": {
      "needs_background": "light",
      "tags": []
     },
     "output_type": "display_data"
    }
   ],
   "source": [
    "#Visualization of Feature Importance\n",
    "\n",
    "coef = pd.Series(clf.coef_, index = X_train.columns)\n",
    "imp_coef = coef.sort_values()\n",
    "matplotlib.rcParams['figure.figsize'] = (6.0, 6.0)\n",
    "imp_coef.plot(kind = \"barh\")\n",
    "plt.title(\"Feature importance using Lasso Model\")\n",
    "#plt.savefig('Ridge-Regression-Feature-Importance.jpg')\n",
    "plt.show()"
   ]
  },
  {
   "cell_type": "markdown",
   "metadata": {
    "id": "TjNJB15LUHTk"
   },
   "source": [
    "## 2. Random Forest Regressor"
   ]
  },
  {
   "cell_type": "code",
   "execution_count": 22,
   "metadata": {
    "colab": {
     "base_uri": "https://localhost:8080/",
     "height": 52
    },
    "id": "rKymwmYiUHTk",
    "outputId": "9351df63-f65e-44bb-b998-f05ca422e628"
   },
   "outputs": [
    {
     "name": "stdout",
     "output_type": "stream",
     "text": [
      "Train Adj R2 =  0.9921\n",
      "Test Adj R2 =  0.9812\n"
     ]
    }
   ],
   "source": [
    "regr = RandomForestRegressor(n_estimators=150,criterion='mse',max_depth=20, random_state=0)\n",
    "regr.fit(X_train, y_train)\n",
    "y_pred=regr.predict(X_test)\n",
    "\n",
    "train_adj_r2_score=round(adjusted_r2(X_train,regr.score(X_train,y_train)),4)\n",
    "test_adj_r2_score=round(adjusted_r2(X_test,regr.score(X_test,y_test)),4)\n",
    "\n",
    "#print(\"Train R2 = \",round(regr.score(X_train,y_train),4))\n",
    "print(\"Train Adj R2 = \",train_adj_r2_score)\n",
    "\n",
    "#print(\"Test R2 = \",round(regr.score(X_test,y_test),4))\n",
    "#print(\"Test Adj R2 = \",test_adj_r2_score)\n",
    "print(\"Test Adj R2 = \",round(adjusted_r2(X_test,r2_score(y_test, y_pred)),4))"
   ]
  },
  {
   "cell_type": "code",
   "execution_count": 23,
   "metadata": {
    "colab": {
     "base_uri": "https://localhost:8080/",
     "height": 70
    },
    "id": "vX018znJUHTo",
    "outputId": "0bcb716f-0ade-403a-9ea6-c519f6dbcd25"
   },
   "outputs": [
    {
     "name": "stdout",
     "output_type": "stream",
     "text": [
      "                 Train Adjusted R2  Test Adjusted R2\n",
      "LassoRegression             0.8955            0.8967\n",
      "RFRegressor                 0.9921            0.9812\n"
     ]
    }
   ],
   "source": [
    "accuracy.loc['RFRegressor']=[train_adj_r2_score,test_adj_r2_score]\n",
    "print(accuracy)"
   ]
  },
  {
   "cell_type": "code",
   "execution_count": 24,
   "metadata": {
    "colab": {
     "base_uri": "https://localhost:8080/",
     "height": 433
    },
    "id": "UUQP5-csUHTr",
    "outputId": "6a837e5b-6a32-4857-fe04-260ee9ec02e6"
   },
   "outputs": [
    {
     "data": {
      "image/png": "[encoded data removed]",
      "text/plain": [
       "<Figure size 432x432 with 1 Axes>"
      ]
     },
     "metadata": {
      "tags": []
     },
     "output_type": "display_data"
    }
   ],
   "source": [
    "importances=regr.feature_importances_\n",
    "features=X_train.columns\n",
    "\n",
    "# Set the style\n",
    "plt.style.use('fivethirtyeight')\n",
    "# list of x locations for plotting\n",
    "x_values = list(range(len(importances)))\n",
    "# Make a bar chart\n",
    "plt.figure(figsize=(6,6))\n",
    "plt.bar(x_values, importances, orientation = ('vertical'))\n",
    "# Tick labels for x axis\n",
    "plt.xticks(x_values, features, rotation=(90))\n",
    "# Axis labels and title\n",
    "plt.ylabel('Importance'); \n",
    "plt.xlabel('Variable/Features'); \n",
    "plt.title('Random Forest Variables Importance')\n",
    "plt.tight_layout()\n",
    "#plt.savefig('Random-Forest-Variables-Importances.jpg',dpi=600)\n",
    "plt.show();"
   ]
  },
  {
   "cell_type": "markdown",
   "metadata": {
    "id": "VVe0-O6-UHTu"
   },
   "source": [
    "## 3. Deep Learning"
   ]
  },
  {
   "cell_type": "code",
   "execution_count": 37,
   "metadata": {
    "id": "lh8ywUPBUHTu"
   },
   "outputs": [],
   "source": [
    "import torch\n",
    "import torchvision\n",
    "import torchvision.transforms as transforms\n",
    "\n",
    "import torch.nn as nn\n",
    "import torch.optim as optim"
   ]
  },
  {
   "cell_type": "code",
   "execution_count": 38,
   "metadata": {
    "colab": {
     "base_uri": "https://localhost:8080/",
     "height": 34
    },
    "id": "utLETvE-UHTx",
    "outputId": "dcd758de-725e-44bb-96d3-e83ffb229d18"
   },
   "outputs": [
    {
     "data": {
      "text/plain": [
       "device(type='cuda')"
      ]
     },
     "execution_count": 38,
     "metadata": {
      "tags": []
     },
     "output_type": "execute_result"
    }
   ],
   "source": [
    "device = torch.device(\"cuda\" if torch.cuda.is_available() else \"cpu\")\n",
    "device"
   ]
  },
  {
   "cell_type": "code",
   "execution_count": 106,
   "metadata": {
    "id": "HdikexEzUHT0"
   },
   "outputs": [],
   "source": [
    "original_feature=['Store', 'StoreType', 'Assortment', 'CompetitionDistance',\n",
    "       'CompetitionOpenSinceMonth', 'CompetitionOpenSinceYear', 'Promo2',\n",
    "       'Promo2SinceWeek', 'Promo2SinceYear', 'PromoInterval', 'DayOfWeek',\n",
    "       'Customers', 'Open', 'Promo', 'StateHoliday', 'SchoolHoliday']"
   ]
  },
  {
   "cell_type": "code",
   "execution_count": 107,
   "metadata": {
    "id": "pdjihidngHff"
   },
   "outputs": [],
   "source": [
    "df_check=pd.read_csv(dataset)\n",
    "df_check.drop('Date',axis=1,inplace=True)\n",
    "df_check=df_check[list(selected_feat)+['Sales']]"
   ]
  },
  {
   "cell_type": "code",
   "execution_count": 108,
   "metadata": {
    "id": "jFM6xxNZUHT-"
   },
   "outputs": [],
   "source": [
    "X=df_check\n",
    "y=df_check['Sales'].values\n",
    "X.drop('Sales',axis=1,inplace=True)\n",
    "\n",
    "X_train, X_test, y_train, y_test = train_test_split(X, y, test_size=0.2, random_state=42)"
   ]
  },
  {
   "cell_type": "code",
   "execution_count": 109,
   "metadata": {
    "id": "_acwEqfoUHUB"
   },
   "outputs": [],
   "source": [
    "X_train_dl= torch.from_numpy(X_train.values).float()\n",
    "y_train_dl = torch.from_numpy(y_train).view(-1,1).float()\n",
    "\n",
    "\n",
    "X_test_dl= torch.from_numpy(X_test.values).float()\n",
    "y_test_dl = torch.from_numpy(y_test).view(-1,1).float()"
   ]
  },
  {
   "cell_type": "code",
   "execution_count": 110,
   "metadata": {
    "id": "lzZVQrkDUHUE"
   },
   "outputs": [],
   "source": [
    "X_train_dl=X_train_dl.to(device)\n",
    "y_train_dl=y_train_dl.to(device)\n",
    "\n",
    "X_test_dl=X_test_dl.to(device)\n",
    "y_test_dl=y_test_dl.to(device)"
   ]
  },
  {
   "cell_type": "code",
   "execution_count": 111,
   "metadata": {
    "colab": {
     "base_uri": "https://localhost:8080/",
     "height": 52
    },
    "id": "cTBarnrFUHUH",
    "outputId": "29299eb1-8d74-4983-8329-dd7d81251748"
   },
   "outputs": [
    {
     "name": "stdout",
     "output_type": "stream",
     "text": [
      "torch.Size([813767, 20]) torch.Size([813767, 1])\n",
      "torch.Size([203442, 20]) torch.Size([203442, 1])\n"
     ]
    }
   ],
   "source": [
    "print(X_train_dl.shape,y_train_dl.shape)\n",
    "print(X_test_dl.shape,y_test_dl.shape)"
   ]
  },
  {
   "cell_type": "code",
   "execution_count": 112,
   "metadata": {
    "id": "_IamAEmjUHUK"
   },
   "outputs": [],
   "source": [
    "N_h=100\n",
    "dl_model = torch.nn.Sequential(\n",
    "    torch.nn.Linear(X_train_dl.shape[1], N_h),    \n",
    "    #torch.nn.Dropout(0.5),\n",
    "    torch.nn.ReLU(),\n",
    "    \n",
    "    torch.nn.Linear(N_h, N_h),    \n",
    "    #torch.nn.Dropout(0.5),\n",
    "    torch.nn.ReLU(),\n",
    "\n",
    "    torch.nn.Linear(N_h, N_h),    \n",
    "    #torch.nn.Dropout(0.5),\n",
    "    torch.nn.ReLU(),\n",
    "\n",
    "    torch.nn.Linear(N_h, N_h),    \n",
    "    #torch.nn.Dropout(0.5),\n",
    "    torch.nn.ReLU(),\n",
    "    \n",
    "    torch.nn.Linear(N_h, 1),\n",
    ")"
   ]
  },
  {
   "cell_type": "code",
   "execution_count": 113,
   "metadata": {
    "id": "P3HyyJPqUHUO"
   },
   "outputs": [],
   "source": [
    "opt = torch.optim.Adam(dl_model.parameters(),lr=0.005)\n",
    "loss_fn = torch.nn.MSELoss()"
   ]
  },
  {
   "cell_type": "code",
   "execution_count": 114,
   "metadata": {
    "id": "1_uHRa85UHUR"
   },
   "outputs": [],
   "source": [
    "dl_model=dl_model.to(device)"
   ]
  },
  {
   "cell_type": "code",
   "execution_count": 115,
   "metadata": {
    "colab": {
     "base_uri": "https://localhost:8080/",
     "height": 194
    },
    "id": "mo137_DiUHUT",
    "outputId": "9fe5eb97-c16a-41ee-a4d7-03d1bd9c3d21"
   },
   "outputs": [
    {
     "name": "stdout",
     "output_type": "stream",
     "text": [
      "Epoch 0/1000 , Loss = 48216132.0 , R2 Score = -158785.6755\n",
      "Epoch 100/1000 , Loss = 2012683.75 , R2 Score = 0.8421\n",
      "Epoch 200/1000 , Loss = 1956378.25 , R2 Score = 0.8496\n",
      "Epoch 300/1000 , Loss = 1906979.0 , R2 Score = 0.8541\n",
      "Epoch 400/1000 , Loss = 1863011.75 , R2 Score = 0.8554\n",
      "Epoch 500/1000 , Loss = 1915288.875 , R2 Score = 0.8615\n",
      "Epoch 600/1000 , Loss = 1784753.875 , R2 Score = 0.8652\n",
      "Epoch 700/1000 , Loss = 1679639.375 , R2 Score = 0.8715\n",
      "Epoch 800/1000 , Loss = 1634596.875 , R2 Score = 0.8733\n",
      "Epoch 900/1000 , Loss = 1894822.875 , R2 Score = 0.8358\n"
     ]
    }
   ],
   "source": [
    "max_epochs = 1000\n",
    "loss_arr=[]\n",
    "for epoch in range(max_epochs):\n",
    "    \n",
    "    pred = dl_model(X_train_dl) # look at the entire data in a single shot\n",
    "    loss = loss_fn(pred, y_train_dl)\n",
    "    opt.zero_grad()\n",
    "    loss.backward()\n",
    "    opt.step()\n",
    "    \n",
    "    y_train_numpy=pred.cpu().detach().numpy()\n",
    "    y_pred_numpy=y_train_dl.cpu().detach().numpy()\n",
    "    \n",
    "    r2_score_train=round(r2_score(y_train_numpy, y_pred_numpy),4)\n",
    "    if(epoch % 100==0):\n",
    "      print('Epoch {}/{} , Loss = {} , R2 Score = {}'.format(epoch,max_epochs,loss.item(),r2_score_train))\n",
    "    loss_arr.append(loss.item())"
   ]
  },
  {
   "cell_type": "code",
   "execution_count": 116,
   "metadata": {
    "colab": {
     "base_uri": "https://localhost:8080/",
     "height": 434
    },
    "id": "wEdYwzFSUHUX",
    "outputId": "d6d579db-667e-43bf-ec48-3a0ea945584f"
   },
   "outputs": [
    {
     "data": {
      "image/png": "[encoded data removed]",
      "text/plain": [
       "<Figure size 432x432 with 1 Axes>"
      ]
     },
     "metadata": {
      "tags": []
     },
     "output_type": "display_data"
    }
   ],
   "source": [
    "plt.plot(loss_arr, 'r-')\n",
    "plt.xlabel('Epoch')\n",
    "plt.ylabel('MSE')\n",
    "plt.show()  "
   ]
  },
  {
   "cell_type": "code",
   "execution_count": 117,
   "metadata": {
    "id": "6Wdn7EaAUHUa"
   },
   "outputs": [],
   "source": [
    "test_pred = dl_model(X_test_dl)\n",
    "test_loss = loss_fn(test_pred, y_test_dl)\n",
    "test_pred[test_pred<0]=0"
   ]
  },
  {
   "cell_type": "code",
   "execution_count": 118,
   "metadata": {
    "colab": {
     "base_uri": "https://localhost:8080/",
     "height": 34
    },
    "id": "FT-OmzjSUHUd",
    "outputId": "e4034a2d-2717-437e-c384-fa230054c610"
   },
   "outputs": [
    {
     "name": "stdout",
     "output_type": "stream",
     "text": [
      "Test Adj R2 =  0.8956\n"
     ]
    }
   ],
   "source": [
    "y_pred_numpy=test_pred.cpu().detach().numpy()\n",
    "y_test_numpy=y_test_dl.cpu().detach().numpy()\n",
    "print(\"Test Adj R2 = \",round(adjusted_r2(X_test,r2_score(y_test_numpy, y_pred_numpy)),4))"
   ]
  },
  {
   "cell_type": "code",
   "execution_count": 122,
   "metadata": {
    "colab": {
     "base_uri": "https://localhost:8080/",
     "height": 87
    },
    "id": "9VweEjIUgx40",
    "outputId": "12784ba4-5b78-4c6b-ba29-08236349fe40"
   },
   "outputs": [
    {
     "name": "stdout",
     "output_type": "stream",
     "text": [
      "                 Train Adjusted R2  Test Adjusted R2\n",
      "LassoRegression             0.8955            0.8967\n",
      "RFRegressor                 0.9921            0.9812\n",
      "DL                          0.8816            0.8956\n"
     ]
    }
   ],
   "source": [
    "accuracy.loc['DL']=[r2_score_train,round(adjusted_r2(X_test,r2_score(y_test_numpy, y_pred_numpy)),4)]\n",
    "print(accuracy)"
   ]
  },
  {
   "cell_type": "markdown",
   "metadata": {
    "id": "pKFMTChJiV4X"
   },
   "source": [
    "## Accuracy Comparision"
   ]
  },
  {
   "cell_type": "code",
   "execution_count": 140,
   "metadata": {
    "colab": {
     "base_uri": "https://localhost:8080/",
     "height": 87
    },
    "id": "wQ8disR1ibXX",
    "outputId": "03851038-6add-424b-e551-75ed09b5c7d0"
   },
   "outputs": [
    {
     "name": "stdout",
     "output_type": "stream",
     "text": [
      "LassoRegression    89.55\n",
      "RFRegressor        99.21\n",
      "DL                 88.16\n",
      "Name: Train Adjusted R2, dtype: float64\n"
     ]
    }
   ],
   "source": [
    "accuracy['Train Adjusted R2']=accuracy['Train Adjusted R2']*100\n",
    "print(accuracy['Train Adjusted R2'])"
   ]
  },
  {
   "cell_type": "code",
   "execution_count": 168,
   "metadata": {
    "colab": {
     "base_uri": "https://localhost:8080/",
     "height": 87
    },
    "id": "GOwVKfB0nNxs",
    "outputId": "4c5b790c-fad6-4906-dcb3-67a2980b076e"
   },
   "outputs": [
    {
     "name": "stdout",
     "output_type": "stream",
     "text": [
      "LassoRegression    89.67\n",
      "RFRegressor        98.12\n",
      "DL                 89.56\n",
      "Name: Test Adjusted R2, dtype: float64\n"
     ]
    }
   ],
   "source": [
    "accuracy['Test Adjusted R2']=accuracy['Test Adjusted R2']*100\n",
    "print(accuracy['Test Adjusted R2'])"
   ]
  },
  {
   "cell_type": "code",
   "execution_count": 144,
   "metadata": {
    "id": "AOWfwwUIjYor"
   },
   "outputs": [],
   "source": [
    "x=list(range(len(accuracy['Train Adjusted R2'])))\n",
    "y=list(range(80,101,10))"
   ]
  },
  {
   "cell_type": "code",
   "execution_count": 166,
   "metadata": {
    "colab": {
     "base_uri": "https://localhost:8080/",
     "height": 377
    },
    "id": "4aa6MzkTiY5l",
    "outputId": "8bcdf83f-ced2-4573-f873-0102bace86c7"
   },
   "outputs": [
    {
     "data": {
      "image/png": "[encoded data removed]",
      "text/plain": [
       "<Figure size 1440x432 with 1 Axes>"
      ]
     },
     "metadata": {
      "tags": []
     },
     "output_type": "display_data"
    }
   ],
   "source": [
    "props = dict(boxstyle='round', facecolor='white', alpha=0.8)\n",
    "plt.figure(figsize=(20,6))\n",
    "plt.plot(accuracy['Train Adjusted R2'])\n",
    "#plt.yticks(y)\n",
    "#plt.xticks(fontsize=20)\n",
    "#plt.xticks(rotation = (10))\n",
    "plt.xlabel(\"Models\",fontsize=30)\n",
    "plt.ylabel(\"R2 Score(%)\",fontsize=30)\n",
    "plt.title(\"Performance of Models (On Training)\")\n",
    "#plt.text(0, 88, '88',horizontalalignment='center',verticalalignment='center',color='green',bbox=props)\n",
    "for a,b in zip(x,y):\n",
    "    b=accuracy.iloc[a]['Train Adjusted R2']\n",
    "    val=\"(\"+str(round(b,2))+\" %)\"\n",
    "    plt.text(a, b+0.4, val,horizontalalignment='center',verticalalignment='center',color='green',bbox=props)\n",
    "    plt.text(a, b+0.4, '.',horizontalalignment='center',verticalalignment='center',color='red',fontsize=50)"
   ]
  },
  {
   "cell_type": "code",
   "execution_count": 171,
   "metadata": {
    "colab": {
     "base_uri": "https://localhost:8080/",
     "height": 377
    },
    "id": "jBRxnYj0irfk",
    "outputId": "bcf4fdd2-6991-431a-cec5-330f19a70116"
   },
   "outputs": [
    {
     "data": {
      "image/png": "[encoded data removed]",
      "text/plain": [
       "<Figure size 1440x432 with 1 Axes>"
      ]
     },
     "metadata": {
      "tags": []
     },
     "output_type": "display_data"
    }
   ],
   "source": [
    "\n",
    "props = dict(boxstyle='round', facecolor='white', alpha=0.8)\n",
    "plt.figure(figsize=(20,6))\n",
    "plt.plot(accuracy['Test Adjusted R2'])\n",
    "#plt.yticks(y)\n",
    "#plt.xticks(fontsize=20)\n",
    "#plt.xticks(rotation = (10))\n",
    "plt.xlabel(\"Models\",fontsize=30)\n",
    "plt.ylabel(\"R2 Score(%)\",fontsize=30)\n",
    "plt.title(\"Performance of Models (On Testing)\")\n",
    "#plt.text(0, 88, '88',horizontalalignment='center',verticalalignment='center',color='green',bbox=props)\n",
    "for a,b in zip(x,y):\n",
    "    b=accuracy.iloc[a]['Test Adjusted R2']\n",
    "    val=\"(\"+str(round(b,2))+\" %)\"\n",
    "    plt.text(a, b+0.3, val,horizontalalignment='center',verticalalignment='center',color='green',bbox=props)\n",
    "    plt.text(a, b+0.3, '.',horizontalalignment='center',verticalalignment='center',color='red',fontsize=50)"
   ]
  },
  {
   "cell_type": "code",
   "execution_count": null,
   "metadata": {
    "id": "8nYEv-iinD0s"
   },
   "outputs": [],
   "source": []
  }
 ],
 "metadata": {
  "accelerator": "GPU",
  "colab": {
   "collapsed_sections": [],
   "name": "Model_implimentation.ipynb",
   "provenance": [],
   "toc_visible": true
  },
  "kernelspec": {
   "display_name": "Python 3",
   "language": "python",
   "name": "python3"
  },
  "language_info": {
   "codemirror_mode": {
    "name": "ipython",
    "version": 3
   },
   "file_extension": ".py",
   "mimetype": "text/x-python",
   "name": "python",
   "nbconvert_exporter": "python",
   "pygments_lexer": "ipython3",
   "version": "3.8.3"
  }
 },
 "nbformat": 4,
 "nbformat_minor": 1
}
