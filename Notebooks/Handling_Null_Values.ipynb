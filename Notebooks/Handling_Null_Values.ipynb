{
 "cells": [
  {
   "cell_type": "code",
   "execution_count": 1,
   "metadata": {
    "id": "VafXFiNv8TiC"
   },
   "outputs": [],
   "source": [
    "import pandas as pd\n",
    "import numpy as np\n",
    "import seaborn as sns\n",
    "import matplotlib.pyplot as plt\n",
    "from sklearn.impute import SimpleImputer\n",
    "from sklearn.experimental import enable_iterative_imputer \n",
    "\n",
    "import config"
   ]
  },
  {
   "cell_type": "code",
   "execution_count": 2,
   "metadata": {},
   "outputs": [],
   "source": [
    "train_data=config.TRAIN\n",
    "\n",
    "store_data=config.STORE"
   ]
  },
  {
   "cell_type": "code",
   "execution_count": 3,
   "metadata": {
    "colab": {
     "base_uri": "https://localhost:8080/",
     "height": 394
    },
    "id": "-drhWO5B3M_j",
    "outputId": "c71b1332-89d4-495c-aaae-c97a363ae5cf"
   },
   "outputs": [
    {
     "name": "stderr",
     "output_type": "stream",
     "text": [
      "/home/abhash/.local/lib/python3.8/site-packages/IPython/core/interactiveshell.py:3071: DtypeWarning: Columns (7) have mixed types.Specify dtype option on import or set low_memory=False.\n",
      "  has_raised = await self.run_ast_nodes(code_ast.body, cell_name,\n"
     ]
    },
    {
     "name": "stdout",
     "output_type": "stream",
     "text": [
      "Store                             0\n",
      "StoreType                         0\n",
      "Assortment                        0\n",
      "CompetitionDistance            2642\n",
      "CompetitionOpenSinceMonth    323348\n",
      "CompetitionOpenSinceYear     323348\n",
      "Promo2                            0\n",
      "Promo2SinceWeek              508031\n",
      "Promo2SinceYear              508031\n",
      "PromoInterval                508031\n",
      "DayOfWeek                         0\n",
      "Date                              0\n",
      "Sales                             0\n",
      "Customers                         0\n",
      "Open                              0\n",
      "Promo                             0\n",
      "StateHoliday                      0\n",
      "SchoolHoliday                     0\n",
      "dtype: int64\n"
     ]
    }
   ],
   "source": [
    "df1=pd.read_csv(store_data)\n",
    "#print(df1.columns)\n",
    "df2=pd.read_csv(train_data)\n",
    "#print(df2.columns)\n",
    "df=df1.merge(df2,how='left')\n",
    "print(df.isnull().sum())"
   ]
  },
  {
   "cell_type": "code",
   "execution_count": 4,
   "metadata": {},
   "outputs": [
    {
     "data": {
      "image/png": "[encoded data removed]",
      "text/plain": [
       "<Figure size 432x288 with 2 Axes>"
      ]
     },
     "metadata": {
      "needs_background": "light"
     },
     "output_type": "display_data"
    }
   ],
   "source": [
    "sns.heatmap(df.isnull(),yticklabels=False,cbar=True,cmap='Accent')\n",
    "plt.title(\"Fig 1:Missing Values in Rossmann Dataset\")\n",
    "plt.tight_layout()\n",
    "plt.show()"
   ]
  },
  {
   "cell_type": "code",
   "execution_count": 5,
   "metadata": {
    "colab": {
     "base_uri": "https://localhost:8080/",
     "height": 609
    },
    "id": "8yXJdHuS4bfm",
    "outputId": "b8c54c3d-523e-41fa-feaf-e92cf4c22b00"
   },
   "outputs": [
    {
     "name": "stdout",
     "output_type": "stream",
     "text": [
      "<class 'pandas.core.frame.DataFrame'>\n",
      "Int64Index: 1017209 entries, 0 to 1017208\n",
      "Data columns (total 18 columns):\n",
      " #   Column                     Non-Null Count    Dtype  \n",
      "---  ------                     --------------    -----  \n",
      " 0   Store                      1017209 non-null  int64  \n",
      " 1   StoreType                  1017209 non-null  object \n",
      " 2   Assortment                 1017209 non-null  object \n",
      " 3   CompetitionDistance        1014567 non-null  float64\n",
      " 4   CompetitionOpenSinceMonth  693861 non-null   float64\n",
      " 5   CompetitionOpenSinceYear   693861 non-null   float64\n",
      " 6   Promo2                     1017209 non-null  int64  \n",
      " 7   Promo2SinceWeek            509178 non-null   float64\n",
      " 8   Promo2SinceYear            509178 non-null   float64\n",
      " 9   PromoInterval              509178 non-null   object \n",
      " 10  DayOfWeek                  1017209 non-null  int64  \n",
      " 11  Date                       1017209 non-null  object \n",
      " 12  Sales                      1017209 non-null  int64  \n",
      " 13  Customers                  1017209 non-null  int64  \n",
      " 14  Open                       1017209 non-null  int64  \n",
      " 15  Promo                      1017209 non-null  int64  \n",
      " 16  StateHoliday               1017209 non-null  object \n",
      " 17  SchoolHoliday              1017209 non-null  int64  \n",
      "dtypes: float64(5), int64(8), object(5)\n",
      "memory usage: 147.5+ MB\n"
     ]
    }
   ],
   "source": [
    "df.info()"
   ]
  },
  {
   "cell_type": "markdown",
   "metadata": {
    "id": "nKllhm0XIikl"
   },
   "source": [
    "# List of different DataTypes"
   ]
  },
  {
   "cell_type": "code",
   "execution_count": 6,
   "metadata": {
    "id": "FQDT3ggOBfsO"
   },
   "outputs": [],
   "source": [
    "numerical=['Store','CompetitionDistance','Customers']\n",
    "\n",
    "categorical_binary=['Open','Promo2','SchoolHoliday']\n",
    "\n",
    "\n",
    "categorical_nominal=['StoreType','CompetitionOpenSinceMonth','Date','CompetitionOpenSinceYear','Promo2SinceWeek','Promo2SinceYear','PromoInterval','StateHoliday']\n",
    "\n",
    "#column by col encoder\n",
    "categorical_ordinal=['Assortment','DayOfWeek']\n",
    "#label encoder\n",
    "\n",
    "target=['Sales']\n"
   ]
  },
  {
   "cell_type": "markdown",
   "metadata": {
    "id": "LGijjtHCI4YO"
   },
   "source": [
    "# Fill NaN values"
   ]
  },
  {
   "cell_type": "markdown",
   "metadata": {
    "id": "kNeoSjq1Jh5B"
   },
   "source": [
    "##  Filling up 'Promo2SinceWeek','Promo2SinceYear','PromoInterval' columns"
   ]
  },
  {
   "cell_type": "code",
   "execution_count": 7,
   "metadata": {
    "colab": {
     "base_uri": "https://localhost:8080/",
     "height": 231
    },
    "id": "v0gZbW1V3oWI",
    "outputId": "b0d554fe-a457-4c86-f4b6-049930f9ea48"
   },
   "outputs": [
    {
     "name": "stdout",
     "output_type": "stream",
     "text": [
      "Store                             0\n",
      "StoreType                         0\n",
      "Assortment                        0\n",
      "CompetitionDistance            2642\n",
      "CompetitionOpenSinceMonth    323348\n",
      "CompetitionOpenSinceYear     323348\n",
      "Promo2                            0\n",
      "Promo2SinceWeek                   0\n",
      "Promo2SinceYear                   0\n",
      "PromoInterval                     0\n",
      "DayOfWeek                         0\n",
      "Date                              0\n",
      "Sales                             0\n",
      "Customers                         0\n",
      "Open                              0\n",
      "Promo                             0\n",
      "StateHoliday                      0\n",
      "SchoolHoliday                     0\n",
      "dtype: int64\n"
     ]
    }
   ],
   "source": [
    "\n",
    "df['Promo2SinceWeek'].fillna('0',inplace=True)\n",
    "df['Promo2SinceYear'].fillna('0',inplace=True)\n",
    "df['PromoInterval'].fillna('0',inplace=True)\n",
    "\n",
    "print(df.isnull().sum())"
   ]
  },
  {
   "cell_type": "markdown",
   "metadata": {
    "colab": {
     "base_uri": "https://localhost:8080/",
     "height": 102
    },
    "id": "PBT2XmmZ30Tz",
    "outputId": "6c3cb991-876b-4ae2-f183-4604e8cd8bcb"
   },
   "source": [
    "## Filling up 'CompetitionDistance' column"
   ]
  },
  {
   "cell_type": "code",
   "execution_count": 8,
   "metadata": {
    "colab": {
     "base_uri": "https://localhost:8080/",
     "height": 292
    },
    "id": "pz1RJ2w6PzR0",
    "outputId": "29eb8540-e4db-4e06-c6dc-cdb917cb277a"
   },
   "outputs": [],
   "source": [
    "\n",
    "imp_mean = SimpleImputer( strategy='mean') \n",
    "imp_mean.fit(df[['CompetitionDistance']])\n",
    "df[['CompetitionDistance']] = imp_mean.transform(df[['CompetitionDistance']])"
   ]
  },
  {
   "cell_type": "markdown",
   "metadata": {},
   "source": [
    "## Filling up 'CompetitionOpenSinceMonth','CompetitionOpenSinceYear' "
   ]
  },
  {
   "cell_type": "code",
   "execution_count": 9,
   "metadata": {},
   "outputs": [],
   "source": [
    "imp_mean = SimpleImputer( strategy='median') \n",
    "imp_mean.fit(df[['CompetitionOpenSinceMonth']])\n",
    "df[['CompetitionOpenSinceMonth']] = imp_mean.transform(df[['CompetitionOpenSinceMonth']])"
   ]
  },
  {
   "cell_type": "code",
   "execution_count": 10,
   "metadata": {},
   "outputs": [],
   "source": [
    "imp_mean = SimpleImputer( strategy='median') \n",
    "imp_mean.fit(df[['CompetitionOpenSinceYear']])\n",
    "df[['CompetitionOpenSinceYear']] = imp_mean.transform(df[['CompetitionOpenSinceYear']])"
   ]
  },
  {
   "cell_type": "code",
   "execution_count": 11,
   "metadata": {
    "colab": {
     "base_uri": "https://localhost:8080/",
     "height": 51
    },
    "id": "QFRvVA2UhuZy",
    "outputId": "f3563df9-56d3-4f96-d94e-cf7cfe2ca7dc"
   },
   "outputs": [
    {
     "name": "stdout",
     "output_type": "stream",
     "text": [
      "Store                        0\n",
      "StoreType                    0\n",
      "Assortment                   0\n",
      "CompetitionDistance          0\n",
      "CompetitionOpenSinceMonth    0\n",
      "CompetitionOpenSinceYear     0\n",
      "Promo2                       0\n",
      "Promo2SinceWeek              0\n",
      "Promo2SinceYear              0\n",
      "PromoInterval                0\n",
      "DayOfWeek                    0\n",
      "Date                         0\n",
      "Sales                        0\n",
      "Customers                    0\n",
      "Open                         0\n",
      "Promo                        0\n",
      "StateHoliday                 0\n",
      "SchoolHoliday                0\n",
      "dtype: int64\n"
     ]
    }
   ],
   "source": [
    "print(df.isnull().sum())\n"
   ]
  },
  {
   "cell_type": "markdown",
   "metadata": {
    "id": "X0oBOI-eIs9x"
   },
   "source": [
    "# Change of Datatype"
   ]
  },
  {
   "cell_type": "code",
   "execution_count": 12,
   "metadata": {
    "id": "WFm14fmZPyNa"
   },
   "outputs": [],
   "source": [
    "df['Assortment']=df['Assortment'].astype('category')\n",
    "df['StoreType']=df['StoreType'].astype('category')\n",
    "df['PromoInterval']=df['PromoInterval'].astype('category')\n",
    "df['Promo2SinceWeek']=df['Promo2SinceWeek'].astype('category')\n",
    "df['Promo2SinceYear']=df['Promo2SinceYear'].astype('category')\n",
    "df['StateHoliday']=df['StateHoliday'].astype('category')\n",
    "df['Date']=df['Date'].astype('datetime64')"
   ]
  },
  {
   "cell_type": "code",
   "execution_count": 13,
   "metadata": {},
   "outputs": [
    {
     "name": "stdout",
     "output_type": "stream",
     "text": [
      "<class 'pandas.core.frame.DataFrame'>\n",
      "Int64Index: 1017209 entries, 0 to 1017208\n",
      "Data columns (total 18 columns):\n",
      " #   Column                     Non-Null Count    Dtype         \n",
      "---  ------                     --------------    -----         \n",
      " 0   Store                      1017209 non-null  int64         \n",
      " 1   StoreType                  1017209 non-null  category      \n",
      " 2   Assortment                 1017209 non-null  category      \n",
      " 3   CompetitionDistance        1017209 non-null  float64       \n",
      " 4   CompetitionOpenSinceMonth  1017209 non-null  float64       \n",
      " 5   CompetitionOpenSinceYear   1017209 non-null  float64       \n",
      " 6   Promo2                     1017209 non-null  int64         \n",
      " 7   Promo2SinceWeek            1017209 non-null  category      \n",
      " 8   Promo2SinceYear            1017209 non-null  category      \n",
      " 9   PromoInterval              1017209 non-null  category      \n",
      " 10  DayOfWeek                  1017209 non-null  int64         \n",
      " 11  Date                       1017209 non-null  datetime64[ns]\n",
      " 12  Sales                      1017209 non-null  int64         \n",
      " 13  Customers                  1017209 non-null  int64         \n",
      " 14  Open                       1017209 non-null  int64         \n",
      " 15  Promo                      1017209 non-null  int64         \n",
      " 16  StateHoliday               1017209 non-null  category      \n",
      " 17  SchoolHoliday              1017209 non-null  int64         \n",
      "dtypes: category(6), datetime64[ns](1), float64(3), int64(8)\n",
      "memory usage: 106.7 MB\n"
     ]
    }
   ],
   "source": [
    "df.info()"
   ]
  },
  {
   "cell_type": "code",
   "execution_count": 14,
   "metadata": {},
   "outputs": [],
   "source": [
    "df.to_csv(config.MISSING_VALUE_HANDLED,index=False)\n"
   ]
  },
  {
   "cell_type": "code",
   "execution_count": null,
   "metadata": {},
   "outputs": [],
   "source": []
  }
 ],
 "metadata": {
  "colab": {
   "collapsed_sections": [],
   "name": " data-preprocessing.ipynb",
   "provenance": [],
   "toc_visible": true
  },
  "kernelspec": {
   "display_name": "Python 3",
   "language": "python",
   "name": "python3"
  },
  "language_info": {
   "codemirror_mode": {
    "name": "ipython",
    "version": 3
   },
   "file_extension": ".py",
   "mimetype": "text/x-python",
   "name": "python",
   "nbconvert_exporter": "python",
   "pygments_lexer": "ipython3",
   "version": "3.8.3"
  }
 },
 "nbformat": 4,
 "nbformat_minor": 1
}
